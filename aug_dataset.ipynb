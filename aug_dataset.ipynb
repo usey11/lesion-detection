{
 "cells": [
  {
   "cell_type": "code",
   "execution_count": 109,
   "metadata": {},
   "outputs": [],
   "source": [
    "import imgaug.augmenters as iaa\n",
    "import imgaug\n",
    "import os\n",
    "import pandas as pd\n",
    "import skimage\n",
    "from sklearn.utils import shuffle\n",
    "import cv2\n",
    "import numpy as np\n",
    "import matplotlib.pyplot as plt\n",
    "from tqdm import tqdm\n",
    "from moles import MolesConfig"
   ]
  },
  {
   "cell_type": "code",
   "execution_count": 22,
   "metadata": {},
   "outputs": [],
   "source": [
    "config = MolesConfig()"
   ]
  },
  {
   "cell_type": "code",
   "execution_count": 2,
   "metadata": {},
   "outputs": [],
   "source": [
    "# Get all the training files\n",
    "train_image_files = os.listdir(\"data/train-src/images/\")\n",
    "train_ids = [f[:12] for f in train_image_files]"
   ]
  },
  {
   "cell_type": "code",
   "execution_count": 7,
   "metadata": {},
   "outputs": [],
   "source": [
    "# Read in the ground truth file\n",
    "gt = pd.read_csv(\"data/ISIC-2017_Training_Part3_GroundTruth.csv\")\n",
    "gt[\"label\"] = (gt[\"melanoma\"] * 1 + gt[\"seborrheic_keratosis\"] * 2) + 1"
   ]
  },
  {
   "cell_type": "code",
   "execution_count": 27,
   "metadata": {},
   "outputs": [],
   "source": [
    "# Filter gts dataframe to just the training images\n",
    "train_gt = gt[gt[\"image_id\"].isin(train_ids)]\n",
    "\n",
    "# And then into each label category\n",
    "nevus_gt = train_gt[train_gt[\"label\"] == 1]\n",
    "melanoma_gt = train_gt[train_gt[\"label\"] == 2]\n",
    "sk_gt = train_gt[train_gt[\"label\"] == 3]"
   ]
  },
  {
   "cell_type": "code",
   "execution_count": 142,
   "metadata": {},
   "outputs": [],
   "source": [
    "# Number of times to iterate over these image type\n",
    "nevus_iter = 1\n",
    "melanoma_iter = 6\n",
    "sk_iter = 6"
   ]
  },
  {
   "cell_type": "code",
   "execution_count": 20,
   "metadata": {},
   "outputs": [],
   "source": [
    "# Augmentations to use \n",
    "augmentation = iaa.SomeOf((2,5), [\n",
    "    iaa.Fliplr(1.0),\n",
    "    iaa.OneOf([\n",
    "        iaa.GaussianBlur((0, 2.0)),\n",
    "        iaa.AverageBlur(k=(1, 3)),\n",
    "        iaa.MedianBlur(k=(3, 5)),\n",
    "    ]),\n",
    "    iaa.Flipud(1.0),\n",
    "    iaa.Rot90((1,3)),\n",
    "    iaa.CropAndPad(percent=(-0.25, 0.25))\n",
    "])"
   ]
  },
  {
   "cell_type": "code",
   "execution_count": 135,
   "metadata": {},
   "outputs": [],
   "source": [
    "def aug_image(image_id, augmentation, label):\n",
    "    global counter\n",
    "    \n",
    "    image = skimage.io.imread(\"data/train-src/images/{}.jpg\".format(image_id))\n",
    "    image = cv2.resize(image, (config.IMAGE_MIN_DIM, config.IMAGE_MIN_DIM))\n",
    "    \n",
    "    mask = skimage.io.imread(\"data/train-src/masks/{}_segmentation.png\".format(image_id))\n",
    "    mask = cv2.resize(mask, (config.IMAGE_MIN_DIM, config.IMAGE_MIN_DIM))\n",
    "    \n",
    "    new_image_id = \"ISIC_{:07}\".format(counter)\n",
    "    \n",
    "    \n",
    "    MASK_AUGMENTERS = [\"Sequential\", \"SomeOf\", \"OneOf\", \"Sometimes\",\n",
    "                    \"Fliplr\", \"Flipud\", \"CropAndPad\",\n",
    "                    \"Affine\", \"PiecewiseAffine\", \"Rot90\"]\n",
    "    \n",
    "    def hook(images, augmenter, parents, default):\n",
    "            \"\"\"Determines which augmenters to apply to masks.\"\"\"\n",
    "            return augmenter.__class__.__name__ in MASK_AUGMENTERS\n",
    "    \n",
    "    if augmentation:\n",
    "        det = augmentation.to_deterministic()\n",
    "\n",
    "        image_aug = det.augment_image(image)\n",
    "\n",
    "        mask_aug = det.augment_image(mask.astype(np.uint8),\n",
    "                                 hooks=imgaug.HooksImages(activator=hook))\n",
    "        skimage.io.imsave(\"data/train/images/{}.jpg\".format(new_image_id), image_aug)\n",
    "        skimage.io.imsave(\"data/train/masks/{}_segmentation.png\".format(new_image_id), mask_aug)\n",
    "    else:\n",
    "        # No augmentation so just write the origincal image and mask\n",
    "        skimage.io.imsave(\"data/train/images/{}.jpg\".format(new_image_id), image)\n",
    "        skimage.io.imsave(\"data/train/masks/{}_segmentation.png\".format(new_image_id), mask)\n",
    "        \n",
    "    # Update lists of ids and labels as well as the counter\n",
    "    augmented_X.append(new_image_id)\n",
    "    augmented_y.append(label)\n",
    "    counter += 1\n",
    "    \n",
    "    #plt.subplot(2,2,1)\n",
    "    #plt.imshow(image)\n",
    "    #plt.subplot(2,2,2)\n",
    "    #plt.imshow(mask)\n",
    "    #plt.subplot(2,2,3)\n",
    "    #plt.imshow(image_aug)\n",
    "    #plt.subplot(2,2,4)\n",
    "    #plt.imshow(mask_aug)"
   ]
  },
  {
   "cell_type": "code",
   "execution_count": 89,
   "metadata": {},
   "outputs": [],
   "source": [
    "X = nevus_gt[\"image_id\"].to_list() * nevus_iter + \\\n",
    "    melanoma_gt[\"image_id\"].to_list() * melanoma_iter + \\\n",
    "    sk_gt[\"image_id\"].to_list() * sk_iter\n",
    "\n",
    "y = nevus_gt[\"label\"].to_list() * nevus_iter + \\\n",
    "    melanoma_gt[\"label\"].to_list() * melanoma_iter + \\\n",
    "    sk_gt[\"label\"].to_list() * sk_iter"
   ]
  },
  {
   "cell_type": "code",
   "execution_count": 90,
   "metadata": {},
   "outputs": [],
   "source": [
    "X_s, y_s = shuffle(X,y)"
   ]
  },
  {
   "cell_type": "code",
   "execution_count": 136,
   "metadata": {},
   "outputs": [
    {
     "name": "stderr",
     "output_type": "stream",
     "text": [
      " 53%|█████████████████████████████████████████████████████████████████████████████████████████████████▉                                                                                      | 852/1600 [00:55<01:30,  8.28it/s]c:\\users\\usa_m\\appdata\\local\\programs\\python\\python37\\lib\\site-packages\\ipykernel_launcher.py:33: UserWarning: data/train/masks/ISIC_0000852_segmentation.png is a low contrast image\n",
      " 57%|████████████████████████████████████████████████████████████████████████████████████████████████████████                                                                                | 905/1600 [01:04<01:41,  6.83it/s]c:\\users\\usa_m\\appdata\\local\\programs\\python\\python37\\lib\\site-packages\\ipykernel_launcher.py:33: UserWarning: data/train/masks/ISIC_0000905_segmentation.png is a low contrast image\n",
      " 57%|█████████████████████████████████████████████████████████████████████████████████████████████████████████▏                                                                              | 915/1600 [01:05<01:52,  6.07it/s]c:\\users\\usa_m\\appdata\\local\\programs\\python\\python37\\lib\\site-packages\\ipykernel_launcher.py:33: UserWarning: data/train/masks/ISIC_0000915_segmentation.png is a low contrast image\n",
      " 59%|████████████████████████████████████████████████████████████████████████████████████████████████████████████▌                                                                           | 944/1600 [01:11<02:26,  4.48it/s]c:\\users\\usa_m\\appdata\\local\\programs\\python\\python37\\lib\\site-packages\\ipykernel_launcher.py:33: UserWarning: data/train/masks/ISIC_0000944_segmentation.png is a low contrast image\n",
      " 59%|█████████████████████████████████████████████████████████████████████████████████████████████████████████████▎                                                                          | 950/1600 [01:13<02:38,  4.09it/s]c:\\users\\usa_m\\appdata\\local\\programs\\python\\python37\\lib\\site-packages\\ipykernel_launcher.py:33: UserWarning: data/train/masks/ISIC_0000950_segmentation.png is a low contrast image\n",
      " 60%|██████████████████████████████████████████████████████████████████████████████████████████████████████████████                                                                          | 957/1600 [01:14<01:36,  6.67it/s]c:\\users\\usa_m\\appdata\\local\\programs\\python\\python37\\lib\\site-packages\\ipykernel_launcher.py:33: UserWarning: data/train/masks/ISIC_0000958_segmentation.png is a low contrast image\n",
      " 61%|███████████████████████████████████████████████████████████████████████████████████████████████████████████████▊                                                                        | 972/1600 [01:16<01:09,  9.08it/s]c:\\users\\usa_m\\appdata\\local\\programs\\python\\python37\\lib\\site-packages\\ipykernel_launcher.py:33: UserWarning: data/train/masks/ISIC_0000972_segmentation.png is a low contrast image\n",
      " 61%|███████████████████████████████████████████████████████████████████████████████████████████████████████████████▉                                                                        | 973/1600 [01:16<01:07,  9.23it/s]c:\\users\\usa_m\\appdata\\local\\programs\\python\\python37\\lib\\site-packages\\ipykernel_launcher.py:33: UserWarning: data/train/masks/ISIC_0000973_segmentation.png is a low contrast image\n",
      " 63%|███████████████████████████████████████████████████████████████████████████████████████████████████████████████████                                                                    | 1006/1600 [01:20<01:10,  8.38it/s]c:\\users\\usa_m\\appdata\\local\\programs\\python\\python37\\lib\\site-packages\\ipykernel_launcher.py:33: UserWarning: data/train/masks/ISIC_0001006_segmentation.png is a low contrast image\n",
      " 65%|███████████████████████████████████████████████████████████████████████████████████████████████████████████████████████▍                                                               | 1044/1600 [01:26<01:35,  5.82it/s]c:\\users\\usa_m\\appdata\\local\\programs\\python\\python37\\lib\\site-packages\\ipykernel_launcher.py:33: UserWarning: data/train/masks/ISIC_0001044_segmentation.png is a low contrast image\n",
      " 67%|█████████████████████████████████████████████████████████████████████████████████████████████████████████████████████████▊                                                             | 1065/1600 [01:29<01:31,  5.86it/s]c:\\users\\usa_m\\appdata\\local\\programs\\python\\python37\\lib\\site-packages\\ipykernel_launcher.py:33: UserWarning: data/train/masks/ISIC_0001065_segmentation.png is a low contrast image\n",
      " 67%|█████████████████████████████████████████████████████████████████████████████████████████████████████████████████████████▉                                                             | 1066/1600 [01:29<01:33,  5.72it/s]c:\\users\\usa_m\\appdata\\local\\programs\\python\\python37\\lib\\site-packages\\ipykernel_launcher.py:33: UserWarning: data/train/masks/ISIC_0001066_segmentation.png is a low contrast image\n",
      " 67%|███████████████████████████████████████████████████████████████████████████████████████████████████████████████████████████▎                                                           | 1078/1600 [01:31<01:28,  5.90it/s]c:\\users\\usa_m\\appdata\\local\\programs\\python\\python37\\lib\\site-packages\\ipykernel_launcher.py:33: UserWarning: data/train/masks/ISIC_0001078_segmentation.png is a low contrast image\n",
      " 69%|██████████████████████████████████████████████████████████████████████████████████████████████████████████████████████████████▋                                                        | 1108/1600 [01:36<01:13,  6.69it/s]c:\\users\\usa_m\\appdata\\local\\programs\\python\\python37\\lib\\site-packages\\ipykernel_launcher.py:33: UserWarning: data/train/masks/ISIC_0001108_segmentation.png is a low contrast image\n",
      " 70%|███████████████████████████████████████████████████████████████████████████████████████████████████████████████████████████████▌                                                       | 1115/1600 [01:37<01:38,  4.94it/s]c:\\users\\usa_m\\appdata\\local\\programs\\python\\python37\\lib\\site-packages\\ipykernel_launcher.py:33: UserWarning: data/train/masks/ISIC_0001115_segmentation.png is a low contrast image\n",
      " 70%|████████████████████████████████████████████████████████████████████████████████████████████████████████████████████████████████▎                                                      | 1122/1600 [01:38<01:05,  7.32it/s]c:\\users\\usa_m\\appdata\\local\\programs\\python\\python37\\lib\\site-packages\\ipykernel_launcher.py:33: UserWarning: data/train/masks/ISIC_0001122_segmentation.png is a low contrast image\n",
      " 71%|█████████████████████████████████████████████████████████████████████████████████████████████████████████████████████████████████▍                                                     | 1132/1600 [01:40<01:28,  5.26it/s]c:\\users\\usa_m\\appdata\\local\\programs\\python\\python37\\lib\\site-packages\\ipykernel_launcher.py:33: UserWarning: data/train/masks/ISIC_0001132_segmentation.png is a low contrast image\n",
      " 72%|███████████████████████████████████████████████████████████████████████████████████████████████████████████████████████████████████▏                                                   | 1147/1600 [01:43<01:56,  3.90it/s]c:\\users\\usa_m\\appdata\\local\\programs\\python\\python37\\lib\\site-packages\\ipykernel_launcher.py:33: UserWarning: data/train/masks/ISIC_0001147_segmentation.png is a low contrast image\n",
      " 73%|█████████████████████████████████████████████████████████████████████████████████████████████████████████████████████████████████████▍                                                 | 1167/1600 [01:48<02:08,  3.36it/s]c:\\users\\usa_m\\appdata\\local\\programs\\python\\python37\\lib\\site-packages\\ipykernel_launcher.py:33: UserWarning: data/train/masks/ISIC_0001167_segmentation.png is a low contrast image\n",
      " 74%|██████████████████████████████████████████████████████████████████████████████████████████████████████████████████████████████████████▌                                                | 1176/1600 [01:51<02:08,  3.29it/s]c:\\users\\usa_m\\appdata\\local\\programs\\python\\python37\\lib\\site-packages\\ipykernel_launcher.py:33: UserWarning: data/train/masks/ISIC_0001176_segmentation.png is a low contrast image\n"
     ]
    },
    {
     "name": "stderr",
     "output_type": "stream",
     "text": [
      " 74%|████████████████████████████████████████████████████████████████████████████████████████████████████████████████████████████████████████▏                                              | 1191/1600 [01:56<02:12,  3.08it/s]c:\\users\\usa_m\\appdata\\local\\programs\\python\\python37\\lib\\site-packages\\ipykernel_launcher.py:33: UserWarning: data/train/masks/ISIC_0001191_segmentation.png is a low contrast image\n",
      " 79%|███████████████████████████████████████████████████████████████████████████████████████████████████████████████████████████████████████████████▊                                       | 1257/1600 [02:10<01:04,  5.28it/s]c:\\users\\usa_m\\appdata\\local\\programs\\python\\python37\\lib\\site-packages\\ipykernel_launcher.py:33: UserWarning: data/train/masks/ISIC_0001257_segmentation.png is a low contrast image\n",
      " 80%|██████████████████████████████████████████████████████████████████████████████████████████████████████████████████████████████████████████████████▋                                    | 1283/1600 [02:16<01:03,  4.98it/s]c:\\users\\usa_m\\appdata\\local\\programs\\python\\python37\\lib\\site-packages\\ipykernel_launcher.py:33: UserWarning: data/train/masks/ISIC_0001283_segmentation.png is a low contrast image\n",
      " 81%|███████████████████████████████████████████████████████████████████████████████████████████████████████████████████████████████████████████████████▍                                   | 1289/1600 [02:17<01:03,  4.89it/s]c:\\users\\usa_m\\appdata\\local\\programs\\python\\python37\\lib\\site-packages\\ipykernel_launcher.py:33: UserWarning: data/train/masks/ISIC_0001289_segmentation.png is a low contrast image\n",
      " 81%|████████████████████████████████████████████████████████████████████████████████████████████████████████████████████████████████████████████████████▎                                  | 1297/1600 [02:20<01:22,  3.66it/s]c:\\users\\usa_m\\appdata\\local\\programs\\python\\python37\\lib\\site-packages\\ipykernel_launcher.py:33: UserWarning: data/train/masks/ISIC_0001297_segmentation.png is a low contrast image\n",
      " 82%|██████████████████████████████████████████████████████████████████████████████████████████████████████████████████████████████████████████████████████▊                                | 1319/1600 [02:26<01:30,  3.11it/s]c:\\users\\usa_m\\appdata\\local\\programs\\python\\python37\\lib\\site-packages\\ipykernel_launcher.py:33: UserWarning: data/train/masks/ISIC_0001319_segmentation.png is a low contrast image\n",
      " 82%|██████████████████████████████████████████████████████████████████████████████████████████████████████████████████████████████████████████████████████▉                                | 1320/1600 [02:27<01:32,  3.02it/s]c:\\users\\usa_m\\appdata\\local\\programs\\python\\python37\\lib\\site-packages\\ipykernel_launcher.py:33: UserWarning: data/train/masks/ISIC_0001320_segmentation.png is a low contrast image\n",
      " 86%|█████████████████████████████████████████████████████████████████████████████████████████████████████████████████████████████████████████████████████████████▉                         | 1381/1600 [02:44<01:01,  3.59it/s]c:\\users\\usa_m\\appdata\\local\\programs\\python\\python37\\lib\\site-packages\\ipykernel_launcher.py:33: UserWarning: data/train/masks/ISIC_0001381_segmentation.png is a low contrast image\n",
      " 87%|███████████████████████████████████████████████████████████████████████████████████████████████████████████████████████████████████████████████████████████████                        | 1391/1600 [02:47<01:03,  3.30it/s]c:\\users\\usa_m\\appdata\\local\\programs\\python\\python37\\lib\\site-packages\\ipykernel_launcher.py:33: UserWarning: data/train/masks/ISIC_0001391_segmentation.png is a low contrast image\n",
      " 87%|███████████████████████████████████████████████████████████████████████████████████████████████████████████████████████████████████████████████████████████████▉                       | 1398/1600 [02:49<01:00,  3.36it/s]c:\\users\\usa_m\\appdata\\local\\programs\\python\\python37\\lib\\site-packages\\ipykernel_launcher.py:33: UserWarning: data/train/masks/ISIC_0001398_segmentation.png is a low contrast image\n",
      " 88%|████████████████████████████████████████████████████████████████████████████████████████████████████████████████████████████████████████████████████████████████▎                      | 1402/1600 [02:50<00:53,  3.73it/s]c:\\users\\usa_m\\appdata\\local\\programs\\python\\python37\\lib\\site-packages\\ipykernel_launcher.py:33: UserWarning: data/train/masks/ISIC_0001402_segmentation.png is a low contrast image\n",
      " 91%|█████████████████████████████████████████████████████████████████████████████████████████████████████████████████████████████████████████████████████████████████████▋                 | 1449/1600 [03:03<00:42,  3.54it/s]c:\\users\\usa_m\\appdata\\local\\programs\\python\\python37\\lib\\site-packages\\ipykernel_launcher.py:33: UserWarning: data/train/masks/ISIC_0001449_segmentation.png is a low contrast image\n",
      " 91%|██████████████████████████████████████████████████████████████████████████████████████████████████████████████████████████████████████████████████████████████████████                 | 1452/1600 [03:04<00:39,  3.71it/s]c:\\users\\usa_m\\appdata\\local\\programs\\python\\python37\\lib\\site-packages\\ipykernel_launcher.py:33: UserWarning: data/train/masks/ISIC_0001452_segmentation.png is a low contrast image\n",
      " 91%|███████████████████████████████████████████████████████████████████████████████████████████████████████████████████████████████████████████████████████████████████████▎               | 1463/1600 [03:06<00:24,  5.66it/s]c:\\users\\usa_m\\appdata\\local\\programs\\python\\python37\\lib\\site-packages\\ipykernel_launcher.py:33: UserWarning: data/train/masks/ISIC_0001464_segmentation.png is a low contrast image\n",
      "100%|███████████████████████████████████████████████████████████████████████████████████████████████████████████████████████████████████████████████████████████████████████████████████████| 1600/1600 [04:26<00:00,  6.01it/s]\n",
      "  4%|██████▌                                                                                                                                                                                 | 186/5208 [00:34<15:52,  5.27it/s]c:\\users\\usa_m\\appdata\\local\\programs\\python\\python37\\lib\\site-packages\\ipykernel_launcher.py:29: UserWarning: data/train/masks/ISIC_0001788_segmentation.png is a low contrast image\n",
      "  5%|█████████▋                                                                                                                                                                              | 275/5208 [00:50<11:57,  6.87it/s]c:\\users\\usa_m\\appdata\\local\\programs\\python\\python37\\lib\\site-packages\\ipykernel_launcher.py:29: UserWarning: data/train/masks/ISIC_0001876_segmentation.png is a low contrast image\n",
      "  8%|█████████████▉                                                                                                                                                                          | 393/5208 [01:11<18:29,  4.34it/s]c:\\users\\usa_m\\appdata\\local\\programs\\python\\python37\\lib\\site-packages\\ipykernel_launcher.py:29: UserWarning: data/train/masks/ISIC_0001995_segmentation.png is a low contrast image\n",
      "  8%|███████████████▎                                                                                                                                                                        | 432/5208 [01:18<14:24,  5.53it/s]c:\\users\\usa_m\\appdata\\local\\programs\\python\\python37\\lib\\site-packages\\ipykernel_launcher.py:29: UserWarning: data/train/masks/ISIC_0002032_segmentation.png is a low contrast image\n",
      "  9%|█████████████████▏                                                                                                                                                                      | 487/5208 [01:29<12:24,  6.34it/s]c:\\users\\usa_m\\appdata\\local\\programs\\python\\python37\\lib\\site-packages\\ipykernel_launcher.py:29: UserWarning: data/train/masks/ISIC_0002087_segmentation.png is a low contrast image\n",
      " 10%|██████████████████▋                                                                                                                                                                     | 528/5208 [01:37<15:15,  5.11it/s]c:\\users\\usa_m\\appdata\\local\\programs\\python\\python37\\lib\\site-packages\\ipykernel_launcher.py:29: UserWarning: data/train/masks/ISIC_0002128_segmentation.png is a low contrast image\n"
     ]
    },
    {
     "name": "stderr",
     "output_type": "stream",
     "text": [
      " 11%|███████████████████▎                                                                                                                                                                    | 548/5208 [01:40<15:01,  5.17it/s]c:\\users\\usa_m\\appdata\\local\\programs\\python\\python37\\lib\\site-packages\\ipykernel_launcher.py:29: UserWarning: data/train/masks/ISIC_0002148_segmentation.png is a low contrast image\n",
      " 13%|███████████████████████▊                                                                                                                                                                | 675/5208 [01:59<13:40,  5.53it/s]c:\\users\\usa_m\\appdata\\local\\programs\\python\\python37\\lib\\site-packages\\ipykernel_launcher.py:29: UserWarning: data/train/masks/ISIC_0002275_segmentation.png is a low contrast image\n",
      " 14%|█████████████████████████▎                                                                                                                                                              | 715/5208 [02:08<15:26,  4.85it/s]c:\\users\\usa_m\\appdata\\local\\programs\\python\\python37\\lib\\site-packages\\ipykernel_launcher.py:29: UserWarning: data/train/masks/ISIC_0002315_segmentation.png is a low contrast image\n",
      " 16%|████████████████████████████▌                                                                                                                                                           | 810/5208 [02:21<07:40,  9.55it/s]c:\\users\\usa_m\\appdata\\local\\programs\\python\\python37\\lib\\site-packages\\ipykernel_launcher.py:29: UserWarning: data/train/masks/ISIC_0002410_segmentation.png is a low contrast image\n",
      " 17%|███████████████████████████████▌                                                                                                                                                        | 894/5208 [02:34<07:10, 10.02it/s]c:\\users\\usa_m\\appdata\\local\\programs\\python\\python37\\lib\\site-packages\\ipykernel_launcher.py:29: UserWarning: data/train/masks/ISIC_0002495_segmentation.png is a low contrast image\n",
      " 18%|█████████████████████████████████▊                                                                                                                                                      | 957/5208 [02:42<11:50,  5.98it/s]c:\\users\\usa_m\\appdata\\local\\programs\\python\\python37\\lib\\site-packages\\ipykernel_launcher.py:29: UserWarning: data/train/masks/ISIC_0002557_segmentation.png is a low contrast image\n",
      " 21%|██████████████████████████████████████▊                                                                                                                                                | 1103/5208 [03:03<06:28, 10.56it/s]c:\\users\\usa_m\\appdata\\local\\programs\\python\\python37\\lib\\site-packages\\ipykernel_launcher.py:29: UserWarning: data/train/masks/ISIC_0002703_segmentation.png is a low contrast image\n",
      " 22%|████████████████████████████████████████▊                                                                                                                                              | 1163/5208 [03:13<08:06,  8.31it/s]c:\\users\\usa_m\\appdata\\local\\programs\\python\\python37\\lib\\site-packages\\ipykernel_launcher.py:29: UserWarning: data/train/masks/ISIC_0002764_segmentation.png is a low contrast image\n",
      " 22%|████████████████████████████████████████▉                                                                                                                                              | 1165/5208 [03:13<08:35,  7.84it/s]c:\\users\\usa_m\\appdata\\local\\programs\\python\\python37\\lib\\site-packages\\ipykernel_launcher.py:29: UserWarning: data/train/masks/ISIC_0002765_segmentation.png is a low contrast image\n",
      " 23%|█████████████████████████████████████████▉                                                                                                                                             | 1195/5208 [03:18<11:37,  5.75it/s]c:\\users\\usa_m\\appdata\\local\\programs\\python\\python37\\lib\\site-packages\\ipykernel_launcher.py:29: UserWarning: data/train/masks/ISIC_0002796_segmentation.png is a low contrast image\n",
      " 24%|███████████████████████████████████████████▎                                                                                                                                           | 1231/5208 [03:21<08:44,  7.58it/s]c:\\users\\usa_m\\appdata\\local\\programs\\python\\python37\\lib\\site-packages\\ipykernel_launcher.py:29: UserWarning: data/train/masks/ISIC_0002831_segmentation.png is a low contrast image\n",
      " 26%|███████████████████████████████████████████████▏                                                                                                                                       | 1344/5208 [03:36<07:39,  8.41it/s]c:\\users\\usa_m\\appdata\\local\\programs\\python\\python37\\lib\\site-packages\\ipykernel_launcher.py:29: UserWarning: data/train/masks/ISIC_0002945_segmentation.png is a low contrast image\n",
      " 27%|████████████████████████████████████████████████▌                                                                                                                                      | 1381/5208 [03:44<13:08,  4.86it/s]c:\\users\\usa_m\\appdata\\local\\programs\\python\\python37\\lib\\site-packages\\ipykernel_launcher.py:29: UserWarning: data/train/masks/ISIC_0002983_segmentation.png is a low contrast image\n",
      " 29%|████████████████████████████████████████████████████▎                                                                                                                                  | 1489/5208 [04:02<13:16,  4.67it/s]c:\\users\\usa_m\\appdata\\local\\programs\\python\\python37\\lib\\site-packages\\ipykernel_launcher.py:29: UserWarning: data/train/masks/ISIC_0003089_segmentation.png is a low contrast image\n",
      " 29%|█████████████████████████████████████████████████████                                                                                                                                  | 1510/5208 [04:05<12:45,  4.83it/s]c:\\users\\usa_m\\appdata\\local\\programs\\python\\python37\\lib\\site-packages\\ipykernel_launcher.py:29: UserWarning: data/train/masks/ISIC_0003111_segmentation.png is a low contrast image\n",
      " 30%|██████████████████████████████████████████████████████▉                                                                                                                                | 1564/5208 [04:14<12:43,  4.77it/s]c:\\users\\usa_m\\appdata\\local\\programs\\python\\python37\\lib\\site-packages\\ipykernel_launcher.py:29: UserWarning: data/train/masks/ISIC_0003164_segmentation.png is a low contrast image\n",
      " 31%|████████████████████████████████████████████████████████                                                                                                                               | 1596/5208 [04:19<11:43,  5.13it/s]c:\\users\\usa_m\\appdata\\local\\programs\\python\\python37\\lib\\site-packages\\ipykernel_launcher.py:29: UserWarning: data/train/masks/ISIC_0003196_segmentation.png is a low contrast image\n",
      " 31%|████████████████████████████████████████████████████████▏                                                                                                                              | 1599/5208 [04:20<09:21,  6.43it/s]c:\\users\\usa_m\\appdata\\local\\programs\\python\\python37\\lib\\site-packages\\ipykernel_launcher.py:29: UserWarning: data/train/masks/ISIC_0003199_segmentation.png is a low contrast image\n",
      " 31%|████████████████████████████████████████████████████████▋                                                                                                                              | 1614/5208 [04:24<12:14,  4.89it/s]c:\\users\\usa_m\\appdata\\local\\programs\\python\\python37\\lib\\site-packages\\ipykernel_launcher.py:29: UserWarning: data/train/masks/ISIC_0003214_segmentation.png is a low contrast image\n",
      " 32%|███████████████████████████████████████████████████████████                                                                                                                            | 1681/5208 [04:32<07:28,  7.86it/s]c:\\users\\usa_m\\appdata\\local\\programs\\python\\python37\\lib\\site-packages\\ipykernel_launcher.py:29: UserWarning: data/train/masks/ISIC_0003281_segmentation.png is a low contrast image\n"
     ]
    },
    {
     "name": "stderr",
     "output_type": "stream",
     "text": [
      " 34%|██████████████████████████████████████████████████████████████                                                                                                                         | 1765/5208 [04:47<11:11,  5.13it/s]c:\\users\\usa_m\\appdata\\local\\programs\\python\\python37\\lib\\site-packages\\ipykernel_launcher.py:29: UserWarning: data/train/masks/ISIC_0003365_segmentation.png is a low contrast image\n",
      " 38%|█████████████████████████████████████████████████████████████████████▋                                                                                                                 | 1985/5208 [05:26<05:45,  9.32it/s]c:\\users\\usa_m\\appdata\\local\\programs\\python\\python37\\lib\\site-packages\\ipykernel_launcher.py:29: UserWarning: data/train/masks/ISIC_0003586_segmentation.png is a low contrast image\n",
      " 41%|███████████████████████████████████████████████████████████████████████████▎                                                                                                           | 2142/5208 [05:50<08:25,  6.06it/s]c:\\users\\usa_m\\appdata\\local\\programs\\python\\python37\\lib\\site-packages\\ipykernel_launcher.py:29: UserWarning: data/train/masks/ISIC_0003742_segmentation.png is a low contrast image\n",
      " 41%|███████████████████████████████████████████████████████████████████████████▎                                                                                                           | 2144/5208 [05:50<06:57,  7.33it/s]c:\\users\\usa_m\\appdata\\local\\programs\\python\\python37\\lib\\site-packages\\ipykernel_launcher.py:29: UserWarning: data/train/masks/ISIC_0003745_segmentation.png is a low contrast image\n",
      " 42%|████████████████████████████████████████████████████████████████████████████▋                                                                                                          | 2181/5208 [05:56<07:37,  6.62it/s]c:\\users\\usa_m\\appdata\\local\\programs\\python\\python37\\lib\\site-packages\\ipykernel_launcher.py:29: UserWarning: data/train/masks/ISIC_0003783_segmentation.png is a low contrast image\n",
      " 43%|█████████████████████████████████████████████████████████████████████████████▊                                                                                                         | 2216/5208 [06:01<07:11,  6.93it/s]c:\\users\\usa_m\\appdata\\local\\programs\\python\\python37\\lib\\site-packages\\ipykernel_launcher.py:29: UserWarning: data/train/masks/ISIC_0003817_segmentation.png is a low contrast image\n",
      " 43%|██████████████████████████████████████████████████████████████████████████████                                                                                                         | 2223/5208 [06:03<14:31,  3.42it/s]c:\\users\\usa_m\\appdata\\local\\programs\\python\\python37\\lib\\site-packages\\ipykernel_launcher.py:29: UserWarning: data/train/masks/ISIC_0003823_segmentation.png is a low contrast image\n",
      " 44%|████████████████████████████████████████████████████████████████████████████████▌                                                                                                      | 2293/5208 [06:15<09:25,  5.16it/s]c:\\users\\usa_m\\appdata\\local\\programs\\python\\python37\\lib\\site-packages\\ipykernel_launcher.py:29: UserWarning: data/train/masks/ISIC_0003895_segmentation.png is a low contrast image\n",
      " 46%|████████████████████████████████████████████████████████████████████████████████████▎                                                                                                  | 2399/5208 [06:32<07:33,  6.19it/s]c:\\users\\usa_m\\appdata\\local\\programs\\python\\python37\\lib\\site-packages\\ipykernel_launcher.py:29: UserWarning: data/train/masks/ISIC_0003999_segmentation.png is a low contrast image\n",
      " 46%|████████████████████████████████████████████████████████████████████████████████████▎                                                                                                  | 2401/5208 [06:32<08:05,  5.78it/s]c:\\users\\usa_m\\appdata\\local\\programs\\python\\python37\\lib\\site-packages\\ipykernel_launcher.py:29: UserWarning: data/train/masks/ISIC_0004001_segmentation.png is a low contrast image\n",
      " 46%|████████████████████████████████████████████████████████████████████████████████████▉                                                                                                  | 2419/5208 [06:35<05:39,  8.21it/s]c:\\users\\usa_m\\appdata\\local\\programs\\python\\python37\\lib\\site-packages\\ipykernel_launcher.py:29: UserWarning: data/train/masks/ISIC_0004021_segmentation.png is a low contrast image\n",
      " 48%|████████████████████████████████████████████████████████████████████████████████████████▏                                                                                              | 2509/5208 [06:46<06:11,  7.26it/s]c:\\users\\usa_m\\appdata\\local\\programs\\python\\python37\\lib\\site-packages\\ipykernel_launcher.py:29: UserWarning: data/train/masks/ISIC_0004109_segmentation.png is a low contrast image\n",
      " 49%|█████████████████████████████████████████████████████████████████████████████████████████▌                                                                                             | 2550/5208 [06:53<07:47,  5.68it/s]c:\\users\\usa_m\\appdata\\local\\programs\\python\\python37\\lib\\site-packages\\ipykernel_launcher.py:29: UserWarning: data/train/masks/ISIC_0004150_segmentation.png is a low contrast image\n",
      " 50%|██████████████████████████████████████████████████████████████████████████████████████████▋                                                                                            | 2582/5208 [06:58<06:56,  6.30it/s]c:\\users\\usa_m\\appdata\\local\\programs\\python\\python37\\lib\\site-packages\\ipykernel_launcher.py:29: UserWarning: data/train/masks/ISIC_0004182_segmentation.png is a low contrast image\n",
      " 51%|████████████████████████████████████████████████████████████████████████████████████████████▍                                                                                          | 2632/5208 [07:06<06:15,  6.86it/s]c:\\users\\usa_m\\appdata\\local\\programs\\python\\python37\\lib\\site-packages\\ipykernel_launcher.py:29: UserWarning: data/train/masks/ISIC_0004232_segmentation.png is a low contrast image\n",
      " 52%|██████████████████████████████████████████████████████████████████████████████████████████████▋                                                                                        | 2694/5208 [07:17<05:07,  8.16it/s]c:\\users\\usa_m\\appdata\\local\\programs\\python\\python37\\lib\\site-packages\\ipykernel_launcher.py:29: UserWarning: data/train/masks/ISIC_0004294_segmentation.png is a low contrast image\n",
      " 52%|███████████████████████████████████████████████████████████████████████████████████████████████▍                                                                                       | 2717/5208 [07:20<05:56,  6.98it/s]c:\\users\\usa_m\\appdata\\local\\programs\\python\\python37\\lib\\site-packages\\ipykernel_launcher.py:29: UserWarning: data/train/masks/ISIC_0004317_segmentation.png is a low contrast image\n",
      " 55%|████████████████████████████████████████████████████████████████████████████████████████████████████▏                                                                                  | 2850/5208 [07:39<03:44, 10.49it/s]c:\\users\\usa_m\\appdata\\local\\programs\\python\\python37\\lib\\site-packages\\ipykernel_launcher.py:29: UserWarning: data/train/masks/ISIC_0004450_segmentation.png is a low contrast image\n",
      " 56%|██████████████████████████████████████████████████████████████████████████████████████████████████████▋                                                                                | 2921/5208 [07:53<05:44,  6.64it/s]c:\\users\\usa_m\\appdata\\local\\programs\\python\\python37\\lib\\site-packages\\ipykernel_launcher.py:29: UserWarning: data/train/masks/ISIC_0004521_segmentation.png is a low contrast image\n",
      " 57%|███████████████████████████████████████████████████████████████████████████████████████████████████████▌                                                                               | 2949/5208 [07:57<06:59,  5.38it/s]c:\\users\\usa_m\\appdata\\local\\programs\\python\\python37\\lib\\site-packages\\ipykernel_launcher.py:29: UserWarning: data/train/masks/ISIC_0004549_segmentation.png is a low contrast image\n"
     ]
    },
    {
     "name": "stderr",
     "output_type": "stream",
     "text": [
      " 57%|███████████████████████████████████████████████████████████████████████████████████████████████████████▉                                                                               | 2958/5208 [07:58<06:10,  6.08it/s]c:\\users\\usa_m\\appdata\\local\\programs\\python\\python37\\lib\\site-packages\\ipykernel_launcher.py:29: UserWarning: data/train/masks/ISIC_0004558_segmentation.png is a low contrast image\n",
      " 59%|███████████████████████████████████████████████████████████████████████████████████████████████████████████▍                                                                           | 3057/5208 [08:14<04:32,  7.89it/s]c:\\users\\usa_m\\appdata\\local\\programs\\python\\python37\\lib\\site-packages\\ipykernel_launcher.py:29: UserWarning: data/train/masks/ISIC_0004657_segmentation.png is a low contrast image\n",
      " 60%|█████████████████████████████████████████████████████████████████████████████████████████████████████████████▋                                                                         | 3123/5208 [08:24<09:08,  3.80it/s]c:\\users\\usa_m\\appdata\\local\\programs\\python\\python37\\lib\\site-packages\\ipykernel_launcher.py:29: UserWarning: data/train/masks/ISIC_0004723_segmentation.png is a low contrast image\n",
      " 62%|██████████████████████████████████████████████████████████████████████████████████████████████████████████████████▏                                                                    | 3248/5208 [08:44<07:08,  4.58it/s]c:\\users\\usa_m\\appdata\\local\\programs\\python\\python37\\lib\\site-packages\\ipykernel_launcher.py:29: UserWarning: data/train/masks/ISIC_0004848_segmentation.png is a low contrast image\n",
      " 63%|██████████████████████████████████████████████████████████████████████████████████████████████████████████████████▊                                                                    | 3266/5208 [08:47<05:33,  5.82it/s]c:\\users\\usa_m\\appdata\\local\\programs\\python\\python37\\lib\\site-packages\\ipykernel_launcher.py:29: UserWarning: data/train/masks/ISIC_0004867_segmentation.png is a low contrast image\n",
      " 63%|███████████████████████████████████████████████████████████████████████████████████████████████████████████████████▏                                                                   | 3278/5208 [08:49<07:22,  4.37it/s]c:\\users\\usa_m\\appdata\\local\\programs\\python\\python37\\lib\\site-packages\\ipykernel_launcher.py:29: UserWarning: data/train/masks/ISIC_0004878_segmentation.png is a low contrast image\n",
      " 66%|████████████████████████████████████████████████████████████████████████████████████████████████████████████████████████                                                               | 3416/5208 [09:11<05:14,  5.70it/s]c:\\users\\usa_m\\appdata\\local\\programs\\python\\python37\\lib\\site-packages\\ipykernel_launcher.py:29: UserWarning: data/train/masks/ISIC_0005016_segmentation.png is a low contrast image\n",
      " 66%|█████████████████████████████████████████████████████████████████████████████████████████████████████████████████████████▋                                                             | 3462/5208 [09:19<05:16,  5.52it/s]c:\\users\\usa_m\\appdata\\local\\programs\\python\\python37\\lib\\site-packages\\ipykernel_launcher.py:29: UserWarning: data/train/masks/ISIC_0005062_segmentation.png is a low contrast image\n",
      " 69%|█████████████████████████████████████████████████████████████████████████████████████████████████████████████████████████████▉                                                         | 3584/5208 [09:41<04:11,  6.46it/s]c:\\users\\usa_m\\appdata\\local\\programs\\python\\python37\\lib\\site-packages\\ipykernel_launcher.py:29: UserWarning: data/train/masks/ISIC_0005185_segmentation.png is a low contrast image\n",
      " 72%|████████████████████████████████████████████████████████████████████████████████████████████████████████████████████████████████████▌                                                  | 3772/5208 [10:09<03:55,  6.10it/s]c:\\users\\usa_m\\appdata\\local\\programs\\python\\python37\\lib\\site-packages\\ipykernel_launcher.py:29: UserWarning: data/train/masks/ISIC_0005373_segmentation.png is a low contrast image\n",
      " 74%|███████████████████████████████████████████████████████████████████████████████████████████████████████████████████████████████████████▎                                               | 3850/5208 [10:22<04:19,  5.23it/s]c:\\users\\usa_m\\appdata\\local\\programs\\python\\python37\\lib\\site-packages\\ipykernel_launcher.py:29: UserWarning: data/train/masks/ISIC_0005451_segmentation.png is a low contrast image\n",
      " 75%|████████████████████████████████████████████████████████████████████████████████████████████████████████████████████████████████████████▋                                              | 3889/5208 [10:26<03:06,  7.06it/s]c:\\users\\usa_m\\appdata\\local\\programs\\python\\python37\\lib\\site-packages\\ipykernel_launcher.py:29: UserWarning: data/train/masks/ISIC_0005489_segmentation.png is a low contrast image\n",
      " 75%|█████████████████████████████████████████████████████████████████████████████████████████████████████████████████████████████████████████▎                                             | 3908/5208 [10:29<02:43,  7.94it/s]c:\\users\\usa_m\\appdata\\local\\programs\\python\\python37\\lib\\site-packages\\ipykernel_launcher.py:29: UserWarning: data/train/masks/ISIC_0005508_segmentation.png is a low contrast image\n",
      " 78%|██████████████████████████████████████████████████████████████████████████████████████████████████████████████████████████████████████████████                                         | 4042/5208 [10:52<03:10,  6.13it/s]c:\\users\\usa_m\\appdata\\local\\programs\\python\\python37\\lib\\site-packages\\ipykernel_launcher.py:29: UserWarning: data/train/masks/ISIC_0005643_segmentation.png is a low contrast image\n",
      " 79%|████████████████████████████████████████████████████████████████████████████████████████████████████████████████████████████████████████████████▏                                      | 4104/5208 [11:06<03:50,  4.79it/s]c:\\users\\usa_m\\appdata\\local\\programs\\python\\python37\\lib\\site-packages\\ipykernel_launcher.py:29: UserWarning: data/train/masks/ISIC_0005705_segmentation.png is a low contrast image\n",
      " 79%|████████████████████████████████████████████████████████████████████████████████████████████████████████████████████████████████████████████████▉                                      | 4124/5208 [11:08<02:46,  6.52it/s]c:\\users\\usa_m\\appdata\\local\\programs\\python\\python37\\lib\\site-packages\\ipykernel_launcher.py:29: UserWarning: data/train/masks/ISIC_0005724_segmentation.png is a low contrast image\n",
      " 79%|█████████████████████████████████████████████████████████████████████████████████████████████████████████████████████████████████████████████████▏                                     | 4133/5208 [11:11<03:04,  5.81it/s]c:\\users\\usa_m\\appdata\\local\\programs\\python\\python37\\lib\\site-packages\\ipykernel_launcher.py:29: UserWarning: data/train/masks/ISIC_0005733_segmentation.png is a low contrast image\n",
      " 79%|█████████████████████████████████████████████████████████████████████████████████████████████████████████████████████████████████████████████████▎                                     | 4135/5208 [11:11<03:45,  4.76it/s]c:\\users\\usa_m\\appdata\\local\\programs\\python\\python37\\lib\\site-packages\\ipykernel_launcher.py:29: UserWarning: data/train/masks/ISIC_0005736_segmentation.png is a low contrast image\n",
      " 80%|█████████████████████████████████████████████████████████████████████████████████████████████████████████████████████████████████████████████████▊                                     | 4148/5208 [11:12<02:24,  7.33it/s]c:\\users\\usa_m\\appdata\\local\\programs\\python\\python37\\lib\\site-packages\\ipykernel_launcher.py:29: UserWarning: data/train/masks/ISIC_0005749_segmentation.png is a low contrast image\n",
      " 81%|████████████████████████████████████████████████████████████████████████████████████████████████████████████████████████████████████████████████████▍                                  | 4225/5208 [11:25<01:45,  9.29it/s]c:\\users\\usa_m\\appdata\\local\\programs\\python\\python37\\lib\\site-packages\\ipykernel_launcher.py:29: UserWarning: data/train/masks/ISIC_0005825_segmentation.png is a low contrast image\n"
     ]
    },
    {
     "name": "stderr",
     "output_type": "stream",
     "text": [
      " 84%|██████████████████████████████████████████████████████████████████████████████████████████████████████████████████████████████████████████████████████████▏                            | 4388/5208 [11:52<03:20,  4.09it/s]c:\\users\\usa_m\\appdata\\local\\programs\\python\\python37\\lib\\site-packages\\ipykernel_launcher.py:29: UserWarning: data/train/masks/ISIC_0005988_segmentation.png is a low contrast image\n",
      " 85%|██████████████████████████████████████████████████████████████████████████████████████████████████████████████████████████████████████████████████████████▊                            | 4406/5208 [11:55<02:43,  4.91it/s]c:\\users\\usa_m\\appdata\\local\\programs\\python\\python37\\lib\\site-packages\\ipykernel_launcher.py:29: UserWarning: data/train/masks/ISIC_0006007_segmentation.png is a low contrast image\n",
      " 85%|███████████████████████████████████████████████████████████████████████████████████████████████████████████████████████████████████████████████████████████                            | 4412/5208 [11:55<01:47,  7.43it/s]c:\\users\\usa_m\\appdata\\local\\programs\\python\\python37\\lib\\site-packages\\ipykernel_launcher.py:29: UserWarning: data/train/masks/ISIC_0006014_segmentation.png is a low contrast image\n",
      " 85%|████████████████████████████████████████████████████████████████████████████████████████████████████████████████████████████████████████████████████████████                           | 4440/5208 [12:01<03:27,  3.71it/s]c:\\users\\usa_m\\appdata\\local\\programs\\python\\python37\\lib\\site-packages\\ipykernel_launcher.py:29: UserWarning: data/train/masks/ISIC_0006041_segmentation.png is a low contrast image\n",
      " 85%|████████████████████████████████████████████████████████████████████████████████████████████████████████████████████████████████████████████████████████████▏                          | 4446/5208 [12:02<03:05,  4.10it/s]c:\\users\\usa_m\\appdata\\local\\programs\\python\\python37\\lib\\site-packages\\ipykernel_launcher.py:29: UserWarning: data/train/masks/ISIC_0006046_segmentation.png is a low contrast image\n",
      " 88%|████████████████████████████████████████████████████████████████████████████████████████████████████████████████████████████████████████████████████████████████▋                      | 4574/5208 [12:26<03:37,  2.91it/s]c:\\users\\usa_m\\appdata\\local\\programs\\python\\python37\\lib\\site-packages\\ipykernel_launcher.py:29: UserWarning: data/train/masks/ISIC_0006175_segmentation.png is a low contrast image\n",
      " 88%|█████████████████████████████████████████████████████████████████████████████████████████████████████████████████████████████████████████████████████████████████▌                     | 4598/5208 [12:31<01:37,  6.25it/s]c:\\users\\usa_m\\appdata\\local\\programs\\python\\python37\\lib\\site-packages\\ipykernel_launcher.py:29: UserWarning: data/train/masks/ISIC_0006200_segmentation.png is a low contrast image\n",
      " 89%|███████████████████████████████████████████████████████████████████████████████████████████████████████████████████████████████████████████████████████████████████                    | 4639/5208 [12:37<01:37,  5.86it/s]c:\\users\\usa_m\\appdata\\local\\programs\\python\\python37\\lib\\site-packages\\ipykernel_launcher.py:29: UserWarning: data/train/masks/ISIC_0006240_segmentation.png is a low contrast image\n",
      " 92%|████████████████████████████████████████████████████████████████████████████████████████████████████████████████████████████████████████████████████████████████████████▏              | 4788/5208 [13:04<02:01,  3.47it/s]c:\\users\\usa_m\\appdata\\local\\programs\\python\\python37\\lib\\site-packages\\ipykernel_launcher.py:29: UserWarning: data/train/masks/ISIC_0006388_segmentation.png is a low contrast image\n",
      " 97%|██████████████████████████████████████████████████████████████████████████████████████████████████████████████████████████████████████████████████████████████████████████████████▏    | 5072/5208 [13:58<00:23,  5.73it/s]c:\\users\\usa_m\\appdata\\local\\programs\\python\\python37\\lib\\site-packages\\ipykernel_launcher.py:29: UserWarning: data/train/masks/ISIC_0006672_segmentation.png is a low contrast image\n",
      "100%|██████████████████████████████████████████████████████████████████████████████████████████████████████████████████████████████████████████████████████████████████████████████████████▊| 5202/5208 [14:23<00:01,  4.05it/s]c:\\users\\usa_m\\appdata\\local\\programs\\python\\python37\\lib\\site-packages\\ipykernel_launcher.py:29: UserWarning: data/train/masks/ISIC_0006802_segmentation.png is a low contrast image\n",
      "100%|███████████████████████████████████████████████████████████████████████████████████████████████████████████████████████████████████████████████████████████████████████████████████████| 5208/5208 [14:25<00:00,  6.02it/s]\n"
     ]
    }
   ],
   "source": [
    "augmented_X = []\n",
    "augmented_y = []\n",
    "counter = 0\n",
    "\n",
    "# First make copies of original images without augmentations\n",
    "for image_id, label in tqdm(list(zip(train_gt[\"image_id\"].to_list(), train_gt[\"label\"].to_list()))):\n",
    "    aug_image(image_id, None, label)\n",
    "\n",
    "for image_id, label in tqdm(list(zip(X_s,y_s))):\n",
    "    aug_image(image_id, augmentation, label)"
   ]
  },
  {
   "cell_type": "code",
   "execution_count": 139,
   "metadata": {},
   "outputs": [],
   "source": [
    "labels = pd.DataFrame({\"image_id\": augmented_X, \"label\": augmented_y})"
   ]
  },
  {
   "cell_type": "code",
   "execution_count": 140,
   "metadata": {},
   "outputs": [
    {
     "data": {
      "text/plain": [
       "1.0    3294\n",
       "2.0    2093\n",
       "3.0    1421\n",
       "Name: label, dtype: int64"
      ]
     },
     "execution_count": 140,
     "metadata": {},
     "output_type": "execute_result"
    }
   ],
   "source": [
    "labels[\"label\"].value_counts()"
   ]
  },
  {
   "cell_type": "code",
   "execution_count": 141,
   "metadata": {},
   "outputs": [],
   "source": [
    "labels.to_csv(\"data/train/labels.csv\")"
   ]
  },
  {
   "cell_type": "code",
   "execution_count": null,
   "metadata": {},
   "outputs": [],
   "source": []
  }
 ],
 "metadata": {
  "kernelspec": {
   "display_name": "Python 3",
   "language": "python",
   "name": "python3"
  },
  "language_info": {
   "codemirror_mode": {
    "name": "ipython",
    "version": 3
   },
   "file_extension": ".py",
   "mimetype": "text/x-python",
   "name": "python",
   "nbconvert_exporter": "python",
   "pygments_lexer": "ipython3",
   "version": "3.7.0"
  }
 },
 "nbformat": 4,
 "nbformat_minor": 4
}
